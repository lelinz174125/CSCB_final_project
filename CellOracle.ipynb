{
  "cells": [
    {
      "cell_type": "markdown",
      "metadata": {
        "id": "7-AKt17AsYzF"
      },
      "source": [
        "## Question 3: What genetic alterations could improve your engineered cardiomyocytes?"
      ]
    },
    {
      "cell_type": "code",
      "execution_count": null,
      "metadata": {
        "id": "us6HGgdmcWgq"
      },
      "outputs": [],
      "source": [
        "import os\n",
        "import sys\n",
        "\n",
        "import matplotlib.colors as colors\n",
        "import matplotlib.pyplot as plt\n",
        "import numpy as np\n",
        "import pandas as pd\n",
        "import scanpy as sc\n",
        "import seaborn as sns\n",
        "\n",
        "import celloracle as co"
      ]
    },
    {
      "cell_type": "code",
      "execution_count": null,
      "metadata": {
        "id": "sIpEPMmbcdq7"
      },
      "outputs": [],
      "source": [
        "# Do setup\n",
        "co.__version__\n",
        "\n",
        "plt.rcParams[\"figure.figsize\"] = [6,6]\n",
        "%config InlineBackend.figure_format = 'retina'\n",
        "plt.rcParams[\"savefig.dpi\"] = 300\n",
        "\n",
        "%matplotlib inline\n",
        "\n",
        "# Make folders to save plots and links\n",
        "im_folder = \"co_figures\"\n",
        "link_folder = \"co_links\"\n",
        "\n",
        "os.makedirs(im_folder, exist_ok=True)\n",
        "os.makedirs(link_folder, exist_ok=True)"
      ]
    },
    {
      "cell_type": "markdown",
      "metadata": {},
      "source": [
        "## Data preprocessing\n",
        "\n",
        "1. Variable gene selection and normalization.\n",
        "\n",
        "2. Log transformation. \n",
        "\n",
        "3. Cell clustering.\n",
        "\n",
        "4. Dimensional reduction."
      ]
    },
    {
      "cell_type": "code",
      "execution_count": null,
      "metadata": {},
      "outputs": [],
      "source": [
        "def preprocess_pipeline(adata,plot=False): \n",
        "    \"\"\"\n",
        "    This function preprocessing the scRNA-seq data\n",
        "    \n",
        "    \"\"\"\n",
        "\n",
        "    # adata.var['mt']= adata.var_names.str.startswith((\"mt-\"))\n",
        "    # adata.var['ribo'] = adata.var_names.str.startswith((\"Rps\",\"Rpl\"))\n",
        "    # sc.pp.calculate_qc_metrics(adata, qc_vars=['ribo', 'mt'], percent_top=None, log1p=False, inplace=True)\n",
        "    # # Filter out doublets\n",
        "    # thresh = np.percentile(adata.obs['total_counts'],95)\n",
        "    # adata = adata[adata.obs['total_counts'] < thresh, :]\n",
        "    # # Filter out low quality cells \n",
        "    # adata = adata[adata.obs['pct_counts_mt'] < 5, :]\n",
        "    # adata = adata[adata.obs['pct_counts_ribo'] < 35, :]\n",
        "    # adata = adata[adata.obs['total_counts'] > 10000, :]\n",
        "    ################################################################################\n",
        "    # 1. filter out undetected genes that are expressed in less than 5 cells \n",
        "    sc.pp.filter_genes(adata, min_cells=5)\n",
        "    ################################################################################\n",
        "    # 2. Normalize gene expression matrix with total UMI count per cell\n",
        "    sc.pp.normalize_per_cell(adata, key_n_counts='n_counts_all')\n",
        "    ################################################################################\n",
        "    # 3. Identification of highly variable genes\n",
        "    # Select top 2000 highly-variable genes\n",
        "    filter_result = sc.pp.filter_genes_dispersion(adata.X, n_top_genes=2000,log=False)\n",
        "    # Subset the genes\n",
        "    adata = adata[:, filter_result.gene_subset]\n",
        "    # Renormalize after filtering\n",
        "    sc.pp.normalize_per_cell(adata)\n",
        "    ################################################################################\n",
        "    # 4. Log Transform\n",
        "    # keep raw cont data before log transformation\n",
        "    adata.raw = adata\n",
        "    adata.layers[\"raw_count\"] = adata.raw.X.copy()\n",
        "    # Log transformation and scaling\n",
        "    sc.pp.log1p(adata)\n",
        "    sc.pp.scale(adata)\n",
        "    ################################################################################\n",
        "    # 5. PCA and neighbor calculations\n",
        "    sc.tl.pca(adata, svd_solver='arpack')\n",
        "    # Diffusion map\n",
        "    sc.pp.neighbors(adata, n_neighbors=4, n_pcs=20)\n",
        "    sc.tl.diffmap(adata)\n",
        "    # Calculate neihbors again based on diffusionmap\n",
        "    sc.pp.neighbors(adata, n_neighbors=10, use_rep='X_diffmap')\n",
        "    ################################################################################\n",
        "    # 6. cell clustering \n",
        "    sc.tl.louvain(adata, resolution=0.8)\n",
        "    ################################################################################\n",
        "    # 7. Dimensionality reduction using PAGA and force-directed graphs\n",
        "    # PAGA graph construction\n",
        "    sc.tl.paga(adata, groups='louvain')\n",
        "    plt.rcParams[\"figure.figsize\"] = [6, 4.5]\n",
        "    sc.pl.paga(adata)\n",
        "    sc.tl.draw_graph(adata, init_pos='paga', random_state=123)\n",
        "    sc.pl.draw_graph(adata, color='louvain', legend_loc='on data')\n",
        "    adata.write_h5ad(\"preprocessed_Kannan_perinatal_reference.h5ad\")\n",
        "    return adata"
      ]
    },
    {
      "cell_type": "code",
      "execution_count": null,
      "metadata": {},
      "outputs": [],
      "source": [
        "raw_adata = sc.read_h5ad(\"Kannan_perinatal_reference.h5ad\")\n",
        "preprocess_pipeline(adata=raw_adata)"
      ]
    },
    {
      "cell_type": "markdown",
      "metadata": {
        "id": "_vH4kMc-zkJu"
      },
      "source": [
        "## Create Oracle\n",
        "We would like to turn everything in this section into a single callable function, taking the following inputs:\n",
        "\n",
        "\n",
        "*   `h5ad` to preprocessed h5ad (QC, clustering, projection) *required*\n",
        "*   `clusters` used for CellOracle regression *default: louvain*\n",
        "*   `embedding` used for representation *default: X_pca*\n",
        "*   `oracle_name` used for saving the oracle/links *default: oracle*\n",
        "\n",
        "It will have no output, but will save 2 items in the folder it is run in:\n",
        "*   `{oracle_name}.celloracle.oracle`\n",
        "*   `{oracle_name}.celloracle.links`\n"
      ]
    },
    {
      "cell_type": "code",
      "execution_count": null,
      "metadata": {},
      "outputs": [],
      "source": [
        "def gene_in(list,genename =\"Prdm16\"):\n",
        "    for i in list:\n",
        "        if i == genename:\n",
        "            print('%s is in preprocessed dataset!'% genename)"
      ]
    },
    {
      "cell_type": "code",
      "execution_count": null,
      "metadata": {
        "id": "q18Cqwa4cjBO"
      },
      "outputs": [],
      "source": [
        "# load import\n",
        "h5ad = \"preprocessed_Kannan_perinatal_reference.h5ad\" #put file directory here\n",
        "clusters = \"louvain\" #change if needed\n",
        "embedding = \"X_pca\" #change if needed\n",
        "oracle_name = \"Kannan_perinatal\"\n",
        "\n",
        "adata = sc.read_h5ad(h5ad)\n",
        "gene_in(list(adata.var.index))\n",
        "# In this notebook, we use the unscaled mRNA count for the nput of Oracle object.\n",
        "adata.X = adata.layers[\"raw_count\"].copy()\n",
        "#load GRN and create oracle\n",
        "base_GRN = co.data.load_mouse_scATAC_atlas_base_GRN()\n",
        "oracle = co.Oracle()\n",
        "\n",
        "adata"
      ]
    },
    {
      "cell_type": "code",
      "execution_count": null,
      "metadata": {
        "id": "Nrh5-2_8dPIz"
      },
      "outputs": [],
      "source": [
        "# Instantiate Oracle object.\n",
        "oracle.import_anndata_as_raw_count(adata=adata,\n",
        "                                   cluster_column_name=clusters,\n",
        "                                   embedding_name=embedding)\n",
        "oracle.import_TF_data(TF_info_matrix=base_GRN)"
      ]
    },
    {
      "cell_type": "code",
      "execution_count": null,
      "metadata": {
        "id": "QlVc4m62fvyR"
      },
      "outputs": [],
      "source": [
        "# Perform PCA\n",
        "oracle.perform_PCA()\n",
        "# Select important PCs\n",
        "plt.plot(np.cumsum(oracle.pca.explained_variance_ratio_)[:100])\n",
        "n_comps = np.where(np.diff(np.diff(np.cumsum(oracle.pca.explained_variance_ratio_))>0.002))[0][0]\n",
        "plt.axvline(n_comps, c=\"k\")\n",
        "print(n_comps)\n",
        "n_comps = min(n_comps, 50)"
      ]
    },
    {
      "cell_type": "code",
      "execution_count": null,
      "metadata": {
        "id": "8tqYXCdeh6CJ"
      },
      "outputs": [],
      "source": [
        "n_cell = oracle.adata.shape[0]\n",
        "k = int(0.025*n_cell)\n",
        "print(f\"For {n_cell} cells, default k is :{k}\")\n",
        "\n",
        "oracle.knn_imputation(n_pca_dims=n_comps,\n",
        "                      k=k,\n",
        "                      balanced=True,\n",
        "                      b_sight=k*8,\n",
        "                      b_maxl=k*4,\n",
        "                      n_jobs=8) #can change this\n",
        "#save\n",
        "oracle.to_hdf5(file_path=f\"{oracle_name}.celloracle.oracle\")"
      ]
    },
    {
      "cell_type": "code",
      "execution_count": null,
      "metadata": {
        "id": "OEzU39jHicUZ"
      },
      "outputs": [],
      "source": [
        "# warnings.filterwarnings('ignore') #Otherwise, np.int nightmare\n",
        "links = oracle.get_links(cluster_name_for_GRN_unit=clusters,\n",
        "                         alpha=10,\n",
        "                         verbose_level=10)\n",
        "links.filter_links(p=0.001, weight=\"coef_abs\", threshold_number=2000)\n",
        "links.get_network_score()\n",
        "#save filtered links\n",
        "for cluster in links.filtered_links.keys():\n",
        "    links.links_dict[cluster].to_csv(f\"{link_folder}/GRN_{cluster}.csv\")\n",
        "#save these as well.\n",
        "links.to_hdf5(file_path=f\"{oracle_name}.celloracle.links\")"
      ]
    },
    {
      "cell_type": "markdown",
      "metadata": {
        "id": "nVip9oWY1c-H"
      },
      "source": [
        "## Validation\n",
        "\n",
        "In order to validate the effectiveness of CellOracle, we will train an oracle on the **Kannan** data and compare it to the **Prdm16-KO** data."
      ]
    },
    {
      "cell_type": "code",
      "execution_count": null,
      "metadata": {},
      "outputs": [],
      "source": [
        "oracle = co.load_hdf5(\"Kannan_perinatal.celloracle.oracle\")\n",
        "links = co.load_hdf5(\"Kannan_perinatal.celloracle.links\")"
      ]
    },
    {
      "cell_type": "code",
      "execution_count": null,
      "metadata": {
        "id": "aYAnVx2Ho-m9"
      },
      "outputs": [],
      "source": [
        "#links = co.load_hdf5(file_path=\"links.celloracle.hdf5\")\n",
        "links.filter_links()\n",
        "oracle.get_cluster_specific_TFdict_from_Links(links_object=links)\n",
        "oracle.fit_GRN_for_simulation(alpha=10,\n",
        "                              use_cluster_specific_TFdict=True)"
      ]
    },
    {
      "cell_type": "code",
      "execution_count": null,
      "metadata": {},
      "outputs": [],
      "source": [
        "oracle.adata.var.index\n",
        "list1 = list(oracle.adata.var.index)\n",
        "list1.sort()\n",
        "for i in list1:\n",
        "    if i == \"Prdm16\":\n",
        "        print(True)"
      ]
    },
    {
      "cell_type": "code",
      "execution_count": null,
      "metadata": {},
      "outputs": [],
      "source": [
        "goi = \"Prdm16\"\n",
        "sc.pl.draw_graph(oracle.adata, color=[goi, oracle.cluster_column_name],\n",
        "                 layer=\"imputed_count\", use_raw=False, cmap=\"viridis\")"
      ]
    },
    {
      "cell_type": "code",
      "execution_count": null,
      "metadata": {},
      "outputs": [],
      "source": [
        "gene = \"Prdm16\"\n",
        "oracle.simulate_shift(perturb_condition={gene: 0.0},\n",
        "                      n_propagation=3)\n",
        "oracle.estimate_transition_prob(n_neighbors=200,\n",
        "                                knn_random=True,\n",
        "                                sampled_fraction=1)"
      ]
    },
    {
      "cell_type": "code",
      "execution_count": null,
      "metadata": {},
      "outputs": [],
      "source": [
        "oracle.n_genes"
      ]
    },
    {
      "cell_type": "code",
      "execution_count": null,
      "metadata": {},
      "outputs": [],
      "source": [
        "val_adata = sc.read_h5ad(\"Kannan_perinatal_reference.h5ad\")\n",
        "list1 = list(val_adata.var.index)\n",
        "list1.sort()\n",
        "for i in list1:\n",
        "    if i == \"Prdm16\":\n",
        "        print(True)\n"
      ]
    },
    {
      "cell_type": "markdown",
      "metadata": {
        "id": "Qb5dTXt4xkYJ"
      },
      "source": [
        "## Similarity measure\n",
        "We will use 2D variable-wise Pearson Correlation for this.\n",
        "\n",
        "For CellOracle validation, apply this to:\n",
        "\n",
        "*   Kannan vs Prdm16-WT\n",
        "*   Kannan (simulated Prdm16-KO) vs Prdm16-KO\n",
        "\n",
        "\n",
        "After CellOracle is validated, train a SECOND oracle on the engineered cardiomyocytes (CM), and for EACH speculative shift, use pearson_corr to compare to each Kannan timepoint. Success will drive the shifted transcriptome as close to the final stage of differention as possible.\n",
        "\n",
        "We can also use the Kannan entropy metric in addition to/instead of this."
      ]
    },
    {
      "cell_type": "code",
      "execution_count": null,
      "metadata": {
        "id": "6ui2GbMMlOI4"
      },
      "outputs": [],
      "source": [
        "def pearson_corr(adata1, adata2):\n",
        "    '''\n",
        "    Calculate Pearson correlation of 2 anndata matrices\n",
        "    \n",
        "    Input:\n",
        "    --------\n",
        "    adata1: anndata object\n",
        "    adata2: anndata object\n",
        "    \n",
        "    Output:\n",
        "    --------\n",
        "    float:\n",
        "        Pearson correlation.\n",
        "    '''\n",
        "    #Extract matrices\n",
        "    genes_list = np.union1d(adata1.var_names.tolist(),\n",
        "                               adata2.var_names.tolist())\n",
        "\n",
        "    A = adata1[:, genes_list].X\n",
        "    B = adata2[:, genes_list].X\n",
        "\n",
        "    A_mA = A - np.mean(A, axis=0)\n",
        "    B_mB = B - np.mean(B, axis=0)\n",
        "\n",
        "    # Sum of squares\n",
        "    ssA = np.sum(np.power(A_mA, 2), axis=0)\n",
        "    ssB = np.sum(np.power(A_mA, 2), axis=0)\n",
        "\n",
        "    # Finally get corr coeff\n",
        "    return np.dot(A_mA, B_mB.T) / np.sqrt(np.dot(ssA[:, None],ssB[None]))"
      ]
    },
    {
      "cell_type": "markdown",
      "metadata": {
        "id": "RptF0vhq-TdL"
      },
      "source": [
        "## Gene Survey\n",
        "Look at the top genes for the earliest and latest clusters.\n",
        "We would like to improve on the effect by *repressing* the TFs most prominent in early cells and *expressing* the TFs most prominent in late cells. Pick, say, the top 20 differentially linked genes. These will be the shifts we test on the cardiomyocyte oracle."
      ]
    },
    {
      "cell_type": "code",
      "execution_count": null,
      "metadata": {
        "id": "R4ObftMCwEs8"
      },
      "outputs": [],
      "source": [
        "early_cluster = \"FOO\" #put Kannan early cluster name here\n",
        "late_cluster = \"BAR\" #put Kannan late cluster name here\n",
        "\n",
        "links.plot_score_comparison_2D(value,\n",
        "                               early_cluster,\n",
        "                               late_cluster,\n",
        "                               percentile=99,\n",
        "                               annot_shifts=None,\n",
        "                               save=f\"{imfolder}/score_comparison_{early_cluster}_{late_cluster}.png\",\n",
        "                               plt_show=True,\n",
        "                               interactive=False)"
      ]
    }
  ],
  "metadata": {
    "colab": {
      "collapsed_sections": [],
      "name": "CellOracle.ipynb",
      "provenance": []
    },
    "kernelspec": {
      "display_name": "Python 3",
      "name": "python3"
    },
    "language_info": {
      "codemirror_mode": {
        "name": "ipython",
        "version": 3
      },
      "file_extension": ".py",
      "mimetype": "text/x-python",
      "name": "python",
      "nbconvert_exporter": "python",
      "pygments_lexer": "ipython3",
      "version": "3.8.8"
    }
  },
  "nbformat": 4,
  "nbformat_minor": 0
}
