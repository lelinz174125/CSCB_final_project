{
  "nbformat": 4,
  "nbformat_minor": 0,
  "metadata": {
    "colab": {
      "name": "CellOracle.ipynb",
      "provenance": [],
      "collapsed_sections": []
    },
    "kernelspec": {
      "name": "python3",
      "display_name": "Python 3"
    },
    "language_info": {
      "name": "python"
    }
  },
  "cells": [
    {
      "cell_type": "markdown",
      "source": [
        "## Question 3: What genetic alterations could improve your engineered cardiomyocytes?"
      ],
      "metadata": {
        "id": "7-AKt17AsYzF"
      }
    },
    {
      "cell_type": "code",
      "execution_count": null,
      "metadata": {
        "id": "us6HGgdmcWgq"
      },
      "outputs": [],
      "source": [
        "import os\n",
        "import sys\n",
        "\n",
        "import matplotlib.colors as colors\n",
        "import matplotlib.pyplot as plt\n",
        "import numpy as np\n",
        "import pandas as pd\n",
        "import scanpy as sc\n",
        "import seaborn as sns\n",
        "\n",
        "import celloracle as co"
      ]
    },
    {
      "cell_type": "code",
      "source": [
        "# Do setup\n",
        "co.__version__\n",
        "\n",
        "plt.rcParams[\"figure.figsize\"] = [6,6]\n",
        "%config InlineBackend.figure_format = 'retina'\n",
        "plt.rcParams[\"savefig.dpi\"] = 300\n",
        "\n",
        "%matplotlib inline\n",
        "\n",
        "# Make folders to save plots and links\n",
        "im_folder = \"co_figures\"\n",
        "link_folder = \"co_links\"\n",
        "\n",
        "os.makedirs(im_folder, exist_ok=True)\n",
        "os.makedirs(link_folder, exist_ok=True)"
      ],
      "metadata": {
        "id": "sIpEPMmbcdq7"
      },
      "execution_count": null,
      "outputs": []
    },
    {
      "cell_type": "markdown",
      "source": [
        "## Create Oracle\n",
        "We would like to turn everything in this section into a single callable function, taking the following inputs:\n",
        "\n",
        "\n",
        "*   `h5ad` to preprocessed h5ad (QC, clustering, projection) *required*\n",
        "*   `clusters` used for CellOracle regression *default: louvain*\n",
        "*   `embedding` used for representation *default: X_pca*\n",
        "*   `oracle_name` used for saving the oracle/links *default: oracle*\n",
        "\n",
        "It will have no output, but will save 2 items in the folder it is run in:\n",
        "*   `{oracle_name}.celloracle.oracle`\n",
        "*   `{oracle_name}.celloracle.links`\n"
      ],
      "metadata": {
        "id": "_vH4kMc-zkJu"
      }
    },
    {
      "cell_type": "code",
      "source": [
        "h5ad = \"\" #put file directory here\n",
        "clusters = \"louvain\" #change if needed\n",
        "embedding = \"X_pca\" #change if needed\n",
        "oracle_name = \"oracle\"\n",
        "\n",
        "adata = sc.read_h5ad(h5ad)\n",
        "adata\n",
        "\n",
        "print(\"metadata columns :\", list(adata.obs.columns))"
      ],
      "metadata": {
        "id": "q18Cqwa4cjBO"
      },
      "execution_count": null,
      "outputs": []
    },
    {
      "cell_type": "code",
      "source": [
        "#load GRN and create oracle\n",
        "base_GRN = co.data.load_mouse_scATAC_atlas_base_GRN()\n",
        "base_GRN.head()\n",
        "\n",
        "oracle = co.Oracle()\n",
        "oracle.import_anndata_as_raw_count(adata=adata.raw,\n",
        "                                   cluster_column_name=clusters,\n",
        "                                   embedding_name=embedding)\n",
        "oracle.import_TF_data(TF_info_matrix=base_GRN)"
      ],
      "metadata": {
        "id": "Nrh5-2_8dPIz"
      },
      "execution_count": null,
      "outputs": []
    },
    {
      "cell_type": "code",
      "source": [
        "# Perform PCA\n",
        "oracle.perform_PCA()\n",
        "\n",
        "# Select important PCs\n",
        "plt.plot(np.cumsum(oracle.pca.explained_variance_ratio_)[:100])\n",
        "n_comps = np.where(np.diff(np.diff(np.cumsum(oracle.pca.explained_variance_ratio_))>0.002))[0][0]\n",
        "plt.axvline(n_comps, c=\"k\")\n",
        "print(n_comps)\n",
        "n_comps = min(n_comps, 50)"
      ],
      "metadata": {
        "id": "QlVc4m62fvyR"
      },
      "execution_count": null,
      "outputs": []
    },
    {
      "cell_type": "code",
      "source": [
        "n_cell = oracle.adata.shape[0]\n",
        "k = int(0.025*n_cell)\n",
        "print(f\"For {n_cell} cells, default k is :{k}\")\n",
        "\n",
        "oracle.knn_imputation(n_pca_dims=n_comps,\n",
        "                      k=k,\n",
        "                      balanced=True,\n",
        "                      b_sight=k*8,\n",
        "                      b_maxl=k*4,\n",
        "                      n_jobs=8) #can change this"
      ],
      "metadata": {
        "id": "8tqYXCdeh6CJ"
      },
      "execution_count": null,
      "outputs": []
    },
    {
      "cell_type": "code",
      "source": [
        "#save\n",
        "oracle.to_hdf5(f\"{oracle_name}.celloracle.hdf5\")\n",
        "#load\n",
        "#oracle = co.load_hdf5(\"oracle.celloracle.hdf5\")"
      ],
      "metadata": {
        "id": "RDaQTVSriVb2"
      },
      "execution_count": null,
      "outputs": []
    },
    {
      "cell_type": "code",
      "source": [
        "warnings.filterwarnings('ignore') #Otherwise, np.int nightmare\n",
        "links = oracle.get_links(cluster_name_for_GRN_unit=clusters,\n",
        "                         alpha=10,\n",
        "                         verbose_level=10)\n",
        "links.filter_links(p=0.001, weight=\"coef_abs\", threshold_number=2000)\n",
        "links.get_network_score()\n",
        "\n",
        "#save filtered links\n",
        "for cluster in links.filtered_links.keys():\n",
        "    links.links_dict[cluster].to_csv(f\"{link_folder}/GRN_{cluster}.csv\")\n",
        "\n",
        "#save these as well.\n",
        "links.to_hdf5(file_path=f\"{oracle_name}.celloracle.links\")"
      ],
      "metadata": {
        "id": "OEzU39jHicUZ"
      },
      "execution_count": null,
      "outputs": []
    },
    {
      "cell_type": "markdown",
      "source": [
        "## Validation\n",
        "\n",
        "In order to validate the effectiveness of CellOracle, we will train an oracle on the **Kannan** data and compare it to the **Prdm16-KO** data."
      ],
      "metadata": {
        "id": "nVip9oWY1c-H"
      }
    },
    {
      "cell_type": "code",
      "source": [
        "#links = co.load_hdf5(file_path=\"links.celloracle.hdf5\")\n",
        "oracle.get_cluster_specific_TFdict_from_Links(links_object=links)\n",
        "oracle.fit_GRN_for_simulation(alpha=10,\n",
        "                              use_cluster_specific_TFdict=True)\n",
        "gene = \"Prdm16\"\n",
        "oracle.simulate_shift(perturb_condition={gene: 0.0},\n",
        "                      n_propagation=3)\n",
        "oracle.estimate_transition_prob(n_neighbors=200,\n",
        "                                knn_random=True,\n",
        "                                sampled_fraction=1)"
      ],
      "metadata": {
        "id": "aYAnVx2Ho-m9"
      },
      "execution_count": null,
      "outputs": []
    },
    {
      "cell_type": "markdown",
      "source": [
        "## Similarity measure\n",
        "We will use 2D variable-wise Pearson Correlation for this.\n",
        "\n",
        "For CellOracle validation, apply this to:\n",
        "\n",
        "*   Kannan vs Prdm16-WT\n",
        "*   Kannan (simulated Prdm16-KO) vs Prdm16-KO\n",
        "\n",
        "\n",
        "After CellOracle is validated, train a SECOND oracle on the engineered cardiomyocytes (CM), and for EACH speculative shift, use pearson_corr to compare to each Kannan timepoint. Success will drive the shifted transcriptome as close to the final stage of differention as possible.\n",
        "\n",
        "We can also use the Kannan entropy metric in addition to/instead of this."
      ],
      "metadata": {
        "id": "Qb5dTXt4xkYJ"
      }
    },
    {
      "cell_type": "code",
      "source": [
        "def pearson_corr(adata1, adata2):\n",
        "    '''\n",
        "    Calculate Pearson correlation of 2 anndata matrices\n",
        "    \n",
        "    Input:\n",
        "    --------\n",
        "    adata1: anndata object\n",
        "    adata2: anndata object\n",
        "    \n",
        "    Output:\n",
        "    --------\n",
        "    float:\n",
        "        Pearson correlation.\n",
        "    '''\n",
        "    #Extract matrices\n",
        "    genes_list = numpy.union1d(adata1.var_names.tolist(),\n",
        "                               adata2.var_names.tolist())\n",
        "\n",
        "    A = adata1[:, genes_list].X\n",
        "    B = adata2[:, genes_list].X\n",
        "\n",
        "    A_mA = A - np.mean(A, axis=0)\n",
        "    B_mB = B - np.mean(B, axis=0)\n",
        "\n",
        "    # Sum of squares\n",
        "    ssA = np.sum(np.power(A_mA, 2), axis=0)\n",
        "    ssB = np.sum(np.power(A_mA, 2), axis=0)\n",
        "\n",
        "    # Finally get corr coeff\n",
        "    return np.dot(A_mA, B_mB.T) / np.sqrt(np.dot(ssA[:, None],ssB[None]))"
      ],
      "metadata": {
        "id": "6ui2GbMMlOI4"
      },
      "execution_count": null,
      "outputs": []
    },
    {
      "cell_type": "markdown",
      "source": [
        "## Gene Survey\n",
        "Look at the top genes for the earliest and latest clusters.\n",
        "We would like to improve on the effect by *repressing* the TFs most prominent in early cells and *expressing* the TFs most prominent in late cells. Pick, say, the top 20 differentially linked genes. These will be the shifts we test on the cardiomyocyte oracle."
      ],
      "metadata": {
        "id": "RptF0vhq-TdL"
      }
    },
    {
      "cell_type": "code",
      "source": [
        "early_cluster = \"FOO\" #put Kannan early cluster name here\n",
        "late_cluster = \"BAR\" #put Kannan late cluster name here\n",
        "\n",
        "links.plot_score_comparison_2D(value,\n",
        "                               early_cluster,\n",
        "                               late_cluster,\n",
        "                               percentile=99,\n",
        "                               annot_shifts=None,\n",
        "                               save=f\"{imfolder}/score_comparison_{early_cluster}_{late_cluster}.png\",\n",
        "                               plt_show=True,\n",
        "                               interactive=False)"
      ],
      "metadata": {
        "id": "R4ObftMCwEs8"
      },
      "execution_count": null,
      "outputs": []
    }
  ]
}